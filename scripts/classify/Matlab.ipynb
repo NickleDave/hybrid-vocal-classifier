{
 "cells": [
  {
   "cell_type": "markdown",
   "metadata": {
    "collapsed": true
   },
   "source": [
    "# hybrid deep finch\n",
    "\n",
    "### PART 1: Train classifiers with increasing number of samples to estimate accuracy\n",
    "1. In the cell below, replace the dummy directory name with the name of the directory produced by running 'train_deepfinch.m' in Matlab.\n",
    "**This directory should contain 'deepfinch_train_results' in the name. For example:**\n",
    "```python\n",
    "TRAIN_RESULTS_DIR = os.path.normpath(\"C:\\\\DATA\\\\bk40bl61_prelesion\\\\deepfinch_train_results_11-23-16_15-46\")\n",
    "```\n",
    "2. Also change the list of labels for syllables to the labels you used for the bird of interest.\n",
    "3. Use the arrow keys to highlight the cell (when highlighted, it will have a green box around it), then hit 'Ctrl-Enter'\n",
    "\n",
    "Note: the script will take a while to run. Probably best to start at the end of the day and let it run overnight on a computer you're not using for data collection."
   ]
  },
  {
   "cell_type": "code",
   "execution_count": null,
   "metadata": {
    "collapsed": false
   },
   "outputs": [],
   "source": [
    "import os\n",
    "#need os.path.normpath to fix slashes in paths.\n",
    "#Enter paths below with forward slashes, and normpath will convert them to\n",
    "#whatever is appropriate for your system.\n",
    "HOME_DIR = os.path.normpath(\"C:\\\\Users\\\\jnmcgre\\\\Documents\\\\hybrid-deep-finch\")\n",
    "TRAIN_RESULTS_DIR = os.path.normpath(\"C:\\\\DATA\\\\bk40bl61_prelesion\\\\deepfinch_train_results_11-23-16_15-46\")\n",
    "LABELSET = 'abcdefghijklmnqsvz'"
   ]
  },
  {
   "cell_type": "code",
   "execution_count": null,
   "metadata": {
    "collapsed": false,
    "scrolled": true
   },
   "outputs": [],
   "source": [
    "%cd $HOME_DIR\n",
    "%run test_svmrbf_knn $TRAIN_RESULTS_DIR $LABELSET"
   ]
  },
  {
   "cell_type": "markdown",
   "metadata": {},
   "source": [
    "### Part 2: Plot estimated accuracy. Decide which classifier you prefer."
   ]
  },
  {
   "cell_type": "code",
   "execution_count": null,
   "metadata": {
    "collapsed": false
   },
   "outputs": [],
   "source": [
    "%cd $HOME_DIR\n",
    "#plot graph\n",
    "import shelve\n",
    "import numpy as np\n",
    "import matplotlib.pyplot as plt\n",
    "%matplotlib inline\n",
    "\n",
    "#from annote_funcs import AnnoteFinder\n",
    "\n",
    "results_shelve = TRAIN_RESULTS_DIR + '\\\\train\\\\svmrbf_knn_results_summary.db'\n",
    "with shelve.open(results_shelve) as results:\n",
    "    NUM_SAMPLES_TO_TRAIN_WITH = results['NUM_SAMPLES_TO_TRAIN_WITH']\n",
    "    REPLICATES = results['REPLICATES']\n",
    "    svm_test_avg_acc_mn = results['svm_test_avg_acc_mn']\n",
    "    svm_test_avg_acc_std = results['svm_test_avg_acc_std']\n",
    "    svm_test_avg_acc = results['svm_test_avg_acc']\n",
    "    knn_test_avg_acc_mn = results['knn_test_avg_acc_mn']\n",
    "    knn_test_avg_acc_std = results['knn_test_avg_acc_std']\n",
    "    knn_test_avg_acc = results['knn_test_avg_acc']\n",
    "    annotes = results['annotes'] #annotations, shown when hovering over data points\n",
    "    \n",
    "#to pre-allocate arrays below, need:\n",
    "rows = len(NUM_SAMPLES_TO_TRAIN_WITH)\n",
    "cols = len(REPLICATES)\n",
    "\n",
    "fig, (ax1, ax2, ax3) = plt.subplots(3, sharex=True, sharey=True)\n",
    "fig.set_size_inches(14,10)\n",
    "\n",
    "#plot svm and k-NN as lines on one axis for direct comparison between the two\n",
    "ax1.errorbar(NUM_SAMPLES_TO_TRAIN_WITH,\n",
    "             svm_test_avg_acc_mn,\n",
    "             yerr=svm_test_avg_acc_std,\n",
    "             fmt='-k',label='SVM-RBF')\n",
    "ax1.errorbar(NUM_SAMPLES_TO_TRAIN_WITH,\n",
    "             knn_test_avg_acc_mn,\n",
    "             yerr=knn_test_avg_acc_std,\n",
    "             fmt='-b',label='k-NN')\n",
    "#ax.set_ylim([80,100])\n",
    "ax1.set_xticks(NUM_SAMPLES_TO_TRAIN_WITH)\n",
    "ax1.set_xlabel('number of samples used')\n",
    "ax1.set_ylabel('Average accuracy across labels\\n (mean and std. dev.)')\n",
    "ax1.legend(loc=4)\n",
    "\n",
    "#then plot data points on separate axes so user can hover over them\n",
    "#and get replicate + number of samples corresponding to best score\n",
    "ax2_xvals = []\n",
    "for ind,x_tick in enumerate(NUM_SAMPLES_TO_TRAIN_WITH):\n",
    "    y = svm_test_avg_acc[:,ind]\n",
    "    #keep x for call to AnnoteFinder, also make sure it's random w/out replace\n",
    "    x = np.random.normal(x_tick,0.08, size=len(y))\n",
    "    ax2_xvals.append(x.tolist())\n",
    "    ax2.plot(x, y, 'k.', alpha=0.3, markersize=8)\n",
    "ax2_xvals = np.asarray(ax2_xvals)\n",
    "ax2.set_xticks(NUM_SAMPLES_TO_TRAIN_WITH)\n",
    "ax2.set_xlabel('number of samples used')\n",
    "ax2.set_ylabel('Average accuracy across labels')\n",
    "\n",
    "ax3_xvals = []\n",
    "for ind,x_tick in enumerate(NUM_SAMPLES_TO_TRAIN_WITH):\n",
    "    y = knn_test_avg_acc[:,ind]\n",
    "    x = np.random.normal(x_tick,0.08, size=len(y))\n",
    "    ax3_xvals.append(x.tolist())\n",
    "    ax3.plot(x, y, 'b.', alpha=0.3, markersize=8)\n",
    "ax3_xvals = np.asarray(ax3_xvals)\n",
    "ax3.set_xticks(NUM_SAMPLES_TO_TRAIN_WITH)\n",
    "ax3.set_xlabel('number of samples used')\n",
    "ax3.set_ylabel('Average accuracy across labels')  "
   ]
  },
  {
   "cell_type": "code",
   "execution_count": null,
   "metadata": {
    "collapsed": true
   },
   "outputs": [],
   "source": [
    "ax2_af = AnnoteFinder(x,y, annotes, ax=ax)\n",
    "ax3_af = AnnoteFinder(x,y, annotes, ax=ax)\n",
    "fig.canvas.mpl_connect('button_press_event', af)\n",
    "plt.show()\n",
    "\n",
    "fig.canvas.mpl_connect('axes_enter_event', connect_axis)\n",
    "\n",
    "class connect_axis(object):\n",
    "    def __init__(self,ax2,ax3,ax2_af,ax3_af):\n",
    "        self.ax2 = ax2\n",
    "        self.ax3 = ax3\n",
    "        self.ax2_af = ax2_af\n",
    "        self.ax3_af = ax3_af\n",
    "        \n",
    "    if event.inaxes==self.ax2:\n",
    "        self.fig.mpl_connect('pick_event', self._onpick_plot_2)\n",
    "    elif event.inaxes==self.ax3:\n",
    "        self.fig.mpl_connect('pick_event', self._onpick_plot_3)"
   ]
  },
  {
   "cell_type": "markdown",
   "metadata": {},
   "source": [
    "### Part 3: Classify unlabeled syllables\n",
    "\n",
    "1. Before running the script in the cell below, you must run 'classify_deepfinch.m' in Matlab. That script will generate 'autolabel .not.mat' files for each song with unlabeled syllables, and put a list of directories with song for autolabeling in the directory produced by 'train_deepfinch'."
   ]
  },
  {
   "cell_type": "code",
   "execution_count": null,
   "metadata": {
    "collapsed": false
   },
   "outputs": [],
   "source": [
    "%cd $HOME_DIR\n",
    "%run classify $TRAIN_DIR"
   ]
  },
  {
   "cell_type": "code",
   "execution_count": null,
   "metadata": {
    "collapsed": false
   },
   "outputs": [],
   "source": [
    "TRAIN_DIR"
   ]
  },
  {
   "cell_type": "code",
   "execution_count": null,
   "metadata": {
    "collapsed": true
   },
   "outputs": [],
   "source": []
  }
 ],
 "metadata": {
  "anaconda-cloud": {},
  "kernelspec": {
   "display_name": "Python [conda root]",
   "language": "python",
   "name": "conda-root-py"
  },
  "language_info": {
   "codemirror_mode": {
    "name": "ipython",
    "version": 3
   },
   "file_extension": ".py",
   "mimetype": "text/x-python",
   "name": "python",
   "nbconvert_exporter": "python",
   "pygments_lexer": "ipython3",
   "version": "3.5.2"
  }
 },
 "nbformat": 4,
 "nbformat_minor": 0
}
